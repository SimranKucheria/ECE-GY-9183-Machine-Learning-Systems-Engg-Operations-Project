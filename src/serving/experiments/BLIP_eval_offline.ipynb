{
 "cells": [
  {
   "cell_type": "markdown",
   "metadata": {},
   "source": [
    "# Evaluate BLIP model offline"
   ]
  },
  {
   "cell_type": "markdown",
   "metadata": {},
   "source": [
    "Let’s start by loading our trained model and our test data."
   ]
  },
  {
   "cell_type": "code",
   "execution_count": 9,
   "metadata": {},
   "outputs": [],
   "source": [
    "#imports\n",
    "import os\n",
    "import base64\n",
    "import torch\n",
    "import pandas as pd\n",
    "import numpy as np\n",
    "import random\n",
    "import requests\n",
    "import matplotlib.pyplot as plt\n",
    "import seaborn as sns\n",
    "from PIL import Image\n",
    "from torch.utils.data import DataLoader\n",
    "from torchvision import datasets, transforms\n",
    "from torchvision.transforms import InterpolationMode\n",
    "from torch.utils.data import DataLoader, Dataset, Subset\n",
    "from torchsummary import summary\n",
    "from sklearn.model_selection import StratifiedKFold"
   ]
  },
  {
   "cell_type": "code",
   "execution_count": 12,
   "metadata": {},
   "outputs": [],
   "source": [
    "# triton_server_url = \"http://localhost:8010/v2/models/caption/infer\"\n",
    "triton_server_url = \"http://localhost:8001\""
   ]
  },
  {
   "cell_type": "code",
   "execution_count": 13,
   "metadata": {},
   "outputs": [
    {
     "data": {
      "text/plain": [
       "[{'image_path': '/Users/manali/nyu/COURSES/Sem4/MLOps/ECE-GY-9183-Machine-Learning-Systems-Engg-Operations-Project/src/serving/tests/captioning_dummy_test_images/10002456.jpg',\n",
       "  'expected_caption': 'Workers look down from up above on a piece of equipment .'},\n",
       " {'image_path': '/Users/manali/nyu/COURSES/Sem4/MLOps/ECE-GY-9183-Machine-Learning-Systems-Engg-Operations-Project/src/serving/tests/captioning_dummy_test_images/1000092795.jpg',\n",
       "  'expected_caption': 'Two men in green shirts are standing in a yard .'}]"
      ]
     },
     "execution_count": 13,
     "metadata": {},
     "output_type": "execute_result"
    }
   ],
   "source": [
    "def test_data():\n",
    "    # Replace with your actual data pipeline\n",
    "    data = [\n",
    "        {\"image_path\": \"/Users/manali/nyu/COURSES/Sem4/MLOps/ECE-GY-9183-Machine-Learning-Systems-Engg-Operations-Project/src/serving/tests/captioning_dummy_test_images/10002456.jpg\", \"expected_caption\": \"Workers look down from up above on a piece of equipment .\"},\n",
    "        {\"image_path\": \"/Users/manali/nyu/COURSES/Sem4/MLOps/ECE-GY-9183-Machine-Learning-Systems-Engg-Operations-Project/src/serving/tests/captioning_dummy_test_images/1000092795.jpg\", \"expected_caption\": \"Two men in green shirts are standing in a yard .\"},\n",
    "    ]                                                                                                                                                                       \n",
    "    return data\n",
    "data=test_data()\n",
    "data"
   ]
  },
  {
   "cell_type": "code",
   "execution_count": 2,
   "metadata": {},
   "outputs": [],
   "source": [
    "def generate_caption_triton(image_path, triton_server_url):\n",
    "    with open(image_path, 'rb') as img_file:\n",
    "        img_bytes = img_file.read()\n",
    "\n",
    "    img_base64 = base64.b64encode(img_bytes).decode('utf-8')\n",
    "\n",
    "    payload = {\n",
    "        \"inputs\": [\n",
    "            {\n",
    "                \"name\": \"image\",\n",
    "                \"shape\": [1],\n",
    "                \"datatype\": \"BYTES\",\n",
    "                \"data\": [img_base64]\n",
    "            }\n",
    "        ]\n",
    "    }\n",
    "    response = requests.post(triton_server_url, json=payload)\n",
    "    response.raise_for_status()\n",
    "    result = response.json()\n",
    "    caption = result['outputs'][0]['data'][0]\n",
    "    return caption"
   ]
  },
  {
   "cell_type": "code",
   "execution_count": 3,
   "metadata": {},
   "outputs": [
    {
     "ename": "NameError",
     "evalue": "name 'triton_server_url' is not defined",
     "output_type": "error",
     "traceback": [
      "\u001b[31m---------------------------------------------------------------------------\u001b[39m",
      "\u001b[31mNameError\u001b[39m                                 Traceback (most recent call last)",
      "\u001b[36mCell\u001b[39m\u001b[36m \u001b[39m\u001b[32mIn[3]\u001b[39m\u001b[32m, line 1\u001b[39m\n\u001b[32m----> \u001b[39m\u001b[32m1\u001b[39m generate_caption_triton(\u001b[33m\"\u001b[39m\u001b[33m/Users/manali/nyu/COURSES/Sem4/MLOps/ECE-GY-9183-Machine-Learning-Systems-Engg-Operations-Project/src/serving/tests/captioning_dummy_test_images/10002456.jpg\u001b[39m\u001b[33m\"\u001b[39m,\u001b[43mtriton_server_url\u001b[49m)\n",
      "\u001b[31mNameError\u001b[39m: name 'triton_server_url' is not defined"
     ]
    }
   ],
   "source": [
    "generate_caption_triton(\"/Users/manali/nyu/COURSES/Sem4/MLOps/ECE-GY-9183-Machine-Learning-Systems-Engg-Operations-Project/src/serving/tests/captioning_dummy_test_images/10002456.jpg\",triton_server_url)"
   ]
  },
  {
   "cell_type": "code",
   "execution_count": null,
   "metadata": {},
   "outputs": [],
   "source": [
    "def test_bleu_score_above_threshold(test_data):\n",
    "    threshold = 0.3  # Adjust based on your domain needs\n",
    "    for sample in test_data:\n",
    "        generated = generate_caption_triton(sample['image_path'])\n",
    "        reference = [sample['expected_caption'].split()]\n",
    "        candidate = generated.split()\n",
    "        score = sentence_bleu(reference, candidate)\n",
    "        print(f\"BLEU score for {sample['image_path']}: {score}\")\n",
    "        assert score >= threshold"
   ]
  }
 ],
 "metadata": {
  "kernelspec": {
   "display_name": "Python 3 (ipykernel)",
   "language": "python",
   "name": "python3"
  },
  "language_info": {
   "codemirror_mode": {
    "name": "ipython",
    "version": 3
   },
   "file_extension": ".py",
   "mimetype": "text/x-python",
   "name": "python",
   "nbconvert_exporter": "python",
   "pygments_lexer": "ipython3",
   "version": "3.12.10"
  }
 },
 "nbformat": 4,
 "nbformat_minor": 4
}
