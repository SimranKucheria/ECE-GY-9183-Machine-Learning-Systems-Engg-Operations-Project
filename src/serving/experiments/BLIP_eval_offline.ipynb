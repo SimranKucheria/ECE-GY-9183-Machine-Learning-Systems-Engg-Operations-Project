{
 "cells": [
  {
   "cell_type": "markdown",
   "metadata": {},
   "source": [
    "# Evaluate BLIP model offline"
   ]
  },
  {
   "cell_type": "markdown",
   "metadata": {},
   "source": [
    "Let’s start by loading our trained model and our test data."
   ]
  },
  {
   "cell_type": "code",
   "execution_count": 5,
   "metadata": {},
   "outputs": [
    {
     "name": "stdout",
     "output_type": "stream",
     "text": [
      "Requirement already satisfied: torch in /opt/conda/lib/python3.12/site-packages (2.7.0+cu128)\n",
      "Requirement already satisfied: torchvision in /opt/conda/lib/python3.12/site-packages (0.22.0+cu128)\n",
      "Requirement already satisfied: pandas in /opt/conda/lib/python3.12/site-packages (2.2.3)\n",
      "Requirement already satisfied: numpy in /opt/conda/lib/python3.12/site-packages (2.2.5)\n",
      "Requirement already satisfied: matplotlib in /opt/conda/lib/python3.12/site-packages (3.10.1)\n",
      "Requirement already satisfied: seaborn in /opt/conda/lib/python3.12/site-packages (0.13.2)\n",
      "Requirement already satisfied: pillow in /opt/conda/lib/python3.12/site-packages (11.1.0)\n",
      "Collecting torchsummary\n",
      "  Downloading torchsummary-1.5.1-py3-none-any.whl.metadata (296 bytes)\n",
      "Requirement already satisfied: scikit-learn in /opt/conda/lib/python3.12/site-packages (1.6.1)\n",
      "Collecting nltk\n",
      "  Downloading nltk-3.9.1-py3-none-any.whl.metadata (2.9 kB)\n",
      "Collecting tritonclient[all]\n",
      "  Downloading tritonclient-2.56.0-py3-none-manylinux1_x86_64.whl.metadata (2.8 kB)\n",
      "Requirement already satisfied: filelock in /opt/conda/lib/python3.12/site-packages (from torch) (3.13.1)\n",
      "Requirement already satisfied: typing-extensions>=4.10.0 in /opt/conda/lib/python3.12/site-packages (from torch) (4.13.2)\n",
      "Requirement already satisfied: setuptools in /opt/conda/lib/python3.12/site-packages (from torch) (80.1.0)\n",
      "Requirement already satisfied: sympy>=1.13.3 in /opt/conda/lib/python3.12/site-packages (from torch) (1.14.0)\n",
      "Requirement already satisfied: networkx in /opt/conda/lib/python3.12/site-packages (from torch) (3.4.2)\n",
      "Requirement already satisfied: jinja2 in /opt/conda/lib/python3.12/site-packages (from torch) (3.1.6)\n",
      "Requirement already satisfied: fsspec in /opt/conda/lib/python3.12/site-packages (from torch) (2025.3.2)\n",
      "Requirement already satisfied: nvidia-cuda-nvrtc-cu12==12.8.61 in /opt/conda/lib/python3.12/site-packages (from torch) (12.8.61)\n",
      "Requirement already satisfied: nvidia-cuda-runtime-cu12==12.8.57 in /opt/conda/lib/python3.12/site-packages (from torch) (12.8.57)\n",
      "Requirement already satisfied: nvidia-cuda-cupti-cu12==12.8.57 in /opt/conda/lib/python3.12/site-packages (from torch) (12.8.57)\n",
      "Requirement already satisfied: nvidia-cudnn-cu12==9.7.1.26 in /opt/conda/lib/python3.12/site-packages (from torch) (9.7.1.26)\n",
      "Requirement already satisfied: nvidia-cublas-cu12==12.8.3.14 in /opt/conda/lib/python3.12/site-packages (from torch) (12.8.3.14)\n",
      "Requirement already satisfied: nvidia-cufft-cu12==11.3.3.41 in /opt/conda/lib/python3.12/site-packages (from torch) (11.3.3.41)\n",
      "Requirement already satisfied: nvidia-curand-cu12==10.3.9.55 in /opt/conda/lib/python3.12/site-packages (from torch) (10.3.9.55)\n",
      "Requirement already satisfied: nvidia-cusolver-cu12==11.7.2.55 in /opt/conda/lib/python3.12/site-packages (from torch) (11.7.2.55)\n",
      "Requirement already satisfied: nvidia-cusparse-cu12==12.5.7.53 in /opt/conda/lib/python3.12/site-packages (from torch) (12.5.7.53)\n",
      "Requirement already satisfied: nvidia-cusparselt-cu12==0.6.3 in /opt/conda/lib/python3.12/site-packages (from torch) (0.6.3)\n",
      "Requirement already satisfied: nvidia-nccl-cu12==2.26.2 in /opt/conda/lib/python3.12/site-packages (from torch) (2.26.2)\n",
      "Requirement already satisfied: nvidia-nvtx-cu12==12.8.55 in /opt/conda/lib/python3.12/site-packages (from torch) (12.8.55)\n",
      "Requirement already satisfied: nvidia-nvjitlink-cu12==12.8.61 in /opt/conda/lib/python3.12/site-packages (from torch) (12.8.61)\n",
      "Requirement already satisfied: nvidia-cufile-cu12==1.13.0.11 in /opt/conda/lib/python3.12/site-packages (from torch) (1.13.0.11)\n",
      "Requirement already satisfied: triton==3.3.0 in /opt/conda/lib/python3.12/site-packages (from torch) (3.3.0)\n",
      "Requirement already satisfied: python-dateutil>=2.8.2 in /opt/conda/lib/python3.12/site-packages (from pandas) (2.9.0.post0)\n",
      "Requirement already satisfied: pytz>=2020.1 in /opt/conda/lib/python3.12/site-packages (from pandas) (2025.2)\n",
      "Requirement already satisfied: tzdata>=2022.7 in /opt/conda/lib/python3.12/site-packages (from pandas) (2025.2)\n",
      "Requirement already satisfied: contourpy>=1.0.1 in /opt/conda/lib/python3.12/site-packages (from matplotlib) (1.3.2)\n",
      "Requirement already satisfied: cycler>=0.10 in /opt/conda/lib/python3.12/site-packages (from matplotlib) (0.12.1)\n",
      "Requirement already satisfied: fonttools>=4.22.0 in /opt/conda/lib/python3.12/site-packages (from matplotlib) (4.57.0)\n",
      "Requirement already satisfied: kiwisolver>=1.3.1 in /opt/conda/lib/python3.12/site-packages (from matplotlib) (1.4.8)\n",
      "Requirement already satisfied: packaging>=20.0 in /opt/conda/lib/python3.12/site-packages (from matplotlib) (24.2)\n",
      "Requirement already satisfied: pyparsing>=2.3.1 in /opt/conda/lib/python3.12/site-packages (from matplotlib) (3.2.3)\n",
      "Requirement already satisfied: scipy>=1.6.0 in /opt/conda/lib/python3.12/site-packages (from scikit-learn) (1.15.2)\n",
      "Requirement already satisfied: joblib>=1.2.0 in /opt/conda/lib/python3.12/site-packages (from scikit-learn) (1.5.0)\n",
      "Requirement already satisfied: threadpoolctl>=3.1.0 in /opt/conda/lib/python3.12/site-packages (from scikit-learn) (3.6.0)\n",
      "Collecting numpy\n",
      "  Downloading numpy-1.26.4-cp312-cp312-manylinux_2_17_x86_64.manylinux2014_x86_64.whl.metadata (61 kB)\n",
      "Collecting python-rapidjson>=0.9.1 (from tritonclient[all])\n",
      "  Downloading python_rapidjson-1.20-cp312-cp312-manylinux_2_17_x86_64.manylinux2014_x86_64.whl.metadata (22 kB)\n",
      "Requirement already satisfied: urllib3>=2.0.7 in /opt/conda/lib/python3.12/site-packages (from tritonclient[all]) (2.4.0)\n",
      "Requirement already satisfied: aiohttp<4.0.0,>=3.8.1 in /opt/conda/lib/python3.12/site-packages (from tritonclient[all]) (3.11.18)\n",
      "Collecting cuda-python (from tritonclient[all])\n",
      "  Downloading cuda_python-12.9.0-py3-none-any.whl.metadata (4.6 kB)\n",
      "Collecting geventhttpclient>=2.3.3 (from tritonclient[all])\n",
      "  Downloading geventhttpclient-2.3.3-cp312-cp312-manylinux_2_5_x86_64.manylinux1_x86_64.manylinux_2_17_x86_64.manylinux2014_x86_64.whl.metadata (9.7 kB)\n",
      "Collecting grpcio<1.68,>=1.63.0 (from tritonclient[all])\n",
      "  Downloading grpcio-1.67.1-cp312-cp312-manylinux_2_17_x86_64.manylinux2014_x86_64.whl.metadata (3.9 kB)\n",
      "Requirement already satisfied: protobuf<6.0dev,>=5.26.1 in /opt/conda/lib/python3.12/site-packages (from tritonclient[all]) (5.29.3)\n",
      "Requirement already satisfied: aiohappyeyeballs>=2.3.0 in /opt/conda/lib/python3.12/site-packages (from aiohttp<4.0.0,>=3.8.1->tritonclient[all]) (2.6.1)\n",
      "Requirement already satisfied: aiosignal>=1.1.2 in /opt/conda/lib/python3.12/site-packages (from aiohttp<4.0.0,>=3.8.1->tritonclient[all]) (1.3.2)\n",
      "Requirement already satisfied: attrs>=17.3.0 in /opt/conda/lib/python3.12/site-packages (from aiohttp<4.0.0,>=3.8.1->tritonclient[all]) (25.3.0)\n",
      "Requirement already satisfied: frozenlist>=1.1.1 in /opt/conda/lib/python3.12/site-packages (from aiohttp<4.0.0,>=3.8.1->tritonclient[all]) (1.6.0)\n",
      "Requirement already satisfied: multidict<7.0,>=4.5 in /opt/conda/lib/python3.12/site-packages (from aiohttp<4.0.0,>=3.8.1->tritonclient[all]) (6.4.3)\n",
      "Requirement already satisfied: propcache>=0.2.0 in /opt/conda/lib/python3.12/site-packages (from aiohttp<4.0.0,>=3.8.1->tritonclient[all]) (0.3.1)\n",
      "Requirement already satisfied: yarl<2.0,>=1.17.0 in /opt/conda/lib/python3.12/site-packages (from aiohttp<4.0.0,>=3.8.1->tritonclient[all]) (1.20.0)\n",
      "Requirement already satisfied: idna>=2.0 in /opt/conda/lib/python3.12/site-packages (from yarl<2.0,>=1.17.0->aiohttp<4.0.0,>=3.8.1->tritonclient[all]) (3.10)\n",
      "Requirement already satisfied: click in /opt/conda/lib/python3.12/site-packages (from nltk) (8.1.8)\n",
      "Requirement already satisfied: regex>=2021.8.3 in /opt/conda/lib/python3.12/site-packages (from nltk) (2024.11.6)\n",
      "Requirement already satisfied: tqdm in /opt/conda/lib/python3.12/site-packages (from nltk) (4.67.1)\n",
      "Collecting gevent (from geventhttpclient>=2.3.3->tritonclient[all])\n",
      "  Downloading gevent-25.4.2-cp312-cp312-manylinux_2_17_x86_64.manylinux2014_x86_64.whl.metadata (13 kB)\n",
      "Requirement already satisfied: certifi in /opt/conda/lib/python3.12/site-packages (from geventhttpclient>=2.3.3->tritonclient[all]) (2025.1.31)\n",
      "Requirement already satisfied: brotli in /opt/conda/lib/python3.12/site-packages (from geventhttpclient>=2.3.3->tritonclient[all]) (1.1.0)\n",
      "Requirement already satisfied: six>=1.5 in /opt/conda/lib/python3.12/site-packages (from python-dateutil>=2.8.2->pandas) (1.17.0)\n",
      "Requirement already satisfied: mpmath<1.4,>=1.1.0 in /opt/conda/lib/python3.12/site-packages (from sympy>=1.13.3->torch) (1.3.0)\n",
      "Collecting cuda-bindings~=12.9.0 (from cuda-python->tritonclient[all])\n",
      "  Downloading cuda_bindings-12.9.0-cp312-cp312-manylinux_2_17_x86_64.manylinux2014_x86_64.whl.metadata (2.1 kB)\n",
      "Requirement already satisfied: greenlet>=3.2.0 in /opt/conda/lib/python3.12/site-packages (from gevent->geventhttpclient>=2.3.3->tritonclient[all]) (3.2.1)\n",
      "Collecting zope.event (from gevent->geventhttpclient>=2.3.3->tritonclient[all])\n",
      "  Downloading zope.event-5.0-py3-none-any.whl.metadata (4.4 kB)\n",
      "Collecting zope.interface (from gevent->geventhttpclient>=2.3.3->tritonclient[all])\n",
      "  Downloading zope.interface-7.2-cp312-cp312-manylinux_2_5_x86_64.manylinux1_x86_64.manylinux_2_17_x86_64.manylinux2014_x86_64.whl.metadata (44 kB)\n",
      "Requirement already satisfied: MarkupSafe>=2.0 in /opt/conda/lib/python3.12/site-packages (from jinja2->torch) (3.0.2)\n",
      "Downloading torchsummary-1.5.1-py3-none-any.whl (2.8 kB)\n",
      "Downloading tritonclient-2.56.0-py3-none-manylinux1_x86_64.whl (14.4 MB)\n",
      "\u001b[2K   \u001b[90m━━━━━━━━━━━━━━━━━━━━━━━━━━━━━━━━━━━━━━━━\u001b[0m \u001b[32m14.4/14.4 MB\u001b[0m \u001b[31m106.9 MB/s\u001b[0m eta \u001b[36m0:00:00\u001b[0m\n",
      "\u001b[?25hDownloading numpy-1.26.4-cp312-cp312-manylinux_2_17_x86_64.manylinux2014_x86_64.whl (18.0 MB)\n",
      "\u001b[2K   \u001b[90m━━━━━━━━━━━━━━━━━━━━━━━━━━━━━━━━━━━━━━━━\u001b[0m \u001b[32m18.0/18.0 MB\u001b[0m \u001b[31m104.6 MB/s\u001b[0m eta \u001b[36m0:00:00\u001b[0m\n",
      "\u001b[?25hDownloading grpcio-1.67.1-cp312-cp312-manylinux_2_17_x86_64.manylinux2014_x86_64.whl (5.9 MB)\n",
      "\u001b[2K   \u001b[90m━━━━━━━━━━━━━━━━━━━━━━━━━━━━━━━━━━━━━━━━\u001b[0m \u001b[32m5.9/5.9 MB\u001b[0m \u001b[31m96.3 MB/s\u001b[0m eta \u001b[36m0:00:00\u001b[0m\n",
      "\u001b[?25hDownloading nltk-3.9.1-py3-none-any.whl (1.5 MB)\n",
      "\u001b[2K   \u001b[90m━━━━━━━━━━━━━━━━━━━━━━━━━━━━━━━━━━━━━━━━\u001b[0m \u001b[32m1.5/1.5 MB\u001b[0m \u001b[31m104.1 MB/s\u001b[0m eta \u001b[36m0:00:00\u001b[0m\n",
      "\u001b[?25hDownloading geventhttpclient-2.3.3-cp312-cp312-manylinux_2_5_x86_64.manylinux1_x86_64.manylinux_2_17_x86_64.manylinux2014_x86_64.whl (113 kB)\n",
      "Downloading python_rapidjson-1.20-cp312-cp312-manylinux_2_17_x86_64.manylinux2014_x86_64.whl (1.7 MB)\n",
      "\u001b[2K   \u001b[90m━━━━━━━━━━━━━━━━━━━━━━━━━━━━━━━━━━━━━━━━\u001b[0m \u001b[32m1.7/1.7 MB\u001b[0m \u001b[31m100.3 MB/s\u001b[0m eta \u001b[36m0:00:00\u001b[0m\n",
      "\u001b[?25hDownloading cuda_python-12.9.0-py3-none-any.whl (7.5 kB)\n",
      "Downloading cuda_bindings-12.9.0-cp312-cp312-manylinux_2_17_x86_64.manylinux2014_x86_64.whl (12.2 MB)\n",
      "\u001b[2K   \u001b[90m━━━━━━━━━━━━━━━━━━━━━━━━━━━━━━━━━━━━━━━━\u001b[0m \u001b[32m12.2/12.2 MB\u001b[0m \u001b[31m57.7 MB/s\u001b[0m eta \u001b[36m0:00:00\u001b[0m00:01\u001b[0m\n",
      "\u001b[?25hDownloading gevent-25.4.2-cp312-cp312-manylinux_2_17_x86_64.manylinux2014_x86_64.whl (2.1 MB)\n",
      "\u001b[2K   \u001b[90m━━━━━━━━━━━━━━━━━━━━━━━━━━━━━━━━━━━━━━━━\u001b[0m \u001b[32m2.1/2.1 MB\u001b[0m \u001b[31m76.6 MB/s\u001b[0m eta \u001b[36m0:00:00\u001b[0m\n",
      "\u001b[?25hDownloading zope.event-5.0-py3-none-any.whl (6.8 kB)\n",
      "Downloading zope.interface-7.2-cp312-cp312-manylinux_2_5_x86_64.manylinux1_x86_64.manylinux_2_17_x86_64.manylinux2014_x86_64.whl (264 kB)\n",
      "Installing collected packages: torchsummary, cuda-bindings, zope.interface, zope.event, python-rapidjson, numpy, nltk, grpcio, cuda-python, tritonclient, gevent, geventhttpclient\n",
      "\u001b[2K  Attempting uninstall: numpy[90m━━━━━━━━━━━━━━━━━━━━━━━━━━━━━━━━━\u001b[0m \u001b[32m 2/12\u001b[0m [zope.interface]\n",
      "\u001b[2K    Found existing installation: numpy 2.2.5━━━━━━━━━━━━━━━━━━\u001b[0m \u001b[32m 2/12\u001b[0m [zope.interface]\n",
      "\u001b[2K    Uninstalling numpy-2.2.5:[91m╸\u001b[0m\u001b[90m━━━━━━━━━━━━━━━━━━━━━━━\u001b[0m \u001b[32m 5/12\u001b[0m [numpy]face]\n",
      "\u001b[2K      Successfully uninstalled numpy-2.2.5m━━━━━━━━━━━━━━━━━━━━━━━\u001b[0m \u001b[32m 5/12\u001b[0m [numpy]\n",
      "\u001b[2K   \u001b[90m━━━━━━━━━━━━━━━━━━━━━━━━━━━━━━━━━━━━━━━━\u001b[0m \u001b[32m12/12\u001b[0m [geventhttpclient][gevent]lient]\n",
      "\u001b[1A\u001b[2KSuccessfully installed cuda-bindings-12.9.0 cuda-python-12.9.0 gevent-25.4.2 geventhttpclient-2.3.3 grpcio-1.67.1 nltk-3.9.1 numpy-1.26.4 python-rapidjson-1.20 torchsummary-1.5.1 tritonclient-2.56.0 zope.event-5.0 zope.interface-7.2\n"
     ]
    }
   ],
   "source": [
    "!pip install torch torchvision pandas numpy matplotlib seaborn pillow torchsummary scikit-learn tritonclient[all] nltk"
   ]
  },
  {
   "cell_type": "code",
   "execution_count": 1,
   "metadata": {},
   "outputs": [],
   "source": [
    "#imports\n",
    "import os\n",
    "import base64\n",
    "import torch\n",
    "import pandas as pd\n",
    "import numpy as np\n",
    "import random\n",
    "import requests\n",
    "import matplotlib.pyplot as plt\n",
    "import seaborn as sns\n",
    "from PIL import Image\n",
    "from torch.utils.data import DataLoader\n",
    "from torchvision import datasets, transforms\n",
    "from torchvision.transforms import InterpolationMode\n",
    "from torch.utils.data import DataLoader, Dataset, Subset\n",
    "from sklearn.model_selection import StratifiedKFold\n",
    "import tritonclient.http as httpclient\n",
    "from nltk.translate.bleu_score import sentence_bleu\n",
    "from nltk.translate.bleu_score import sentence_bleu, SmoothingFunction\n",
    "import json"
   ]
  },
  {
   "cell_type": "code",
   "execution_count": 2,
   "metadata": {},
   "outputs": [
    {
     "name": "stdout",
     "output_type": "stream",
     "text": [
      "['flickr30k_test.json', 'flickr30k-images', 'flickr30k_test_gt.json', 'flickr30k_train.json', 'flickr30k_val.json', 'flickr30k_val_gt.json', 'flickr30k_test_online_gt.json', 'flickr30k_test_online.json']\n"
     ]
    }
   ],
   "source": [
    "print(os.listdir('/mnt/data/Flickr30k'))"
   ]
  },
  {
   "cell_type": "code",
   "execution_count": 3,
   "metadata": {},
   "outputs": [],
   "source": [
    "json_file = pd.read_csv(\"/mnt/data/Flickr30k/flickr30k_test.json\")\n",
    "img_dir=\"/mnt/data/Flickr30k/flickr30k-images\""
   ]
  },
  {
   "cell_type": "code",
   "execution_count": 4,
   "metadata": {},
   "outputs": [],
   "source": [
    "# Initialize client\n",
    "client = httpclient.InferenceServerClient(url=\"129.114.109.59:8110\")\n",
    "\n",
    "def get_caption(image_path):\n",
    "    # Read image\n",
    "    with open(image_path, \"rb\") as f:\n",
    "        image_bytes = f.read() \n",
    "\n",
    "    inputs = []\n",
    "    inputs.append(httpclient.InferInput(\"INPUT_IMAGE\", [1, 1], \"BYTES\"))\n",
    "\n",
    "    encoded_str =  base64.b64encode(image_bytes).decode(\"utf-8\")\n",
    "    input_data = np.array([[encoded_str]], dtype=object)\n",
    "    inputs[0].set_data_from_numpy(input_data)\n",
    "\n",
    "    outputs = []\n",
    "    outputs.append(httpclient.InferRequestedOutput(\"CAPTION\", binary_data=False))\n",
    "    results = client.infer(model_name=\"caption\", inputs=inputs, outputs=outputs)\n",
    "    cap = results.as_numpy(\"CAPTION\")\n",
    "\n",
    "    return cap"
   ]
  },
  {
   "cell_type": "code",
   "execution_count": 5,
   "metadata": {},
   "outputs": [],
   "source": [
    "def generate_all_captions(data):\n",
    "    results = []\n",
    "    for sample in data:\n",
    "        image_path = sample['image_path']\n",
    "        expected = sample['expected_caption']\n",
    "        generated = get_caption(image_path)\n",
    "        results.append({\n",
    "            'image_path': image_path,\n",
    "            'expected_caption': expected,\n",
    "            'generated_caption': generated\n",
    "        })\n",
    "    return results"
   ]
  },
  {
   "cell_type": "code",
   "execution_count": 6,
   "metadata": {},
   "outputs": [],
   "source": [
    "# Load your JSON\n",
    "with open('/mnt/data/Flickr30k/flickr30k_test.json') as f:\n",
    "    dataset = json.load(f)\n",
    "\n",
    "# Build your list in the format your function expects\n",
    "data = []\n",
    "for entry in dataset:\n",
    "    img_name = entry['image']\n",
    "    img_path = os.path.join('/mnt/data/Flickr30k', img_name)\n",
    "    gt_captions = entry['caption']  # list of 5 captions\n",
    "    \n",
    "    try:\n",
    "        # Check if image exists\n",
    "        if not os.path.exists(img_path):\n",
    "            raise FileNotFoundError(f\"Image not found: {img_path}\")\n",
    "        \n",
    "        # If image exists, append the data\n",
    "        data.append({'image_path': img_path, 'expected_caption': gt_captions})\n",
    "        # print(\"appended\")\n",
    "    \n",
    "    except FileNotFoundError as e:\n",
    "        print(f\"Skipping: {e}\")\n",
    "        continue  # Skip this image and move to the next one\n",
    "\n",
    "results = generate_all_captions(data)"
   ]
  },
  {
   "cell_type": "code",
   "execution_count": 7,
   "metadata": {},
   "outputs": [],
   "source": [
    "from nltk.translate.bleu_score import corpus_bleu, SmoothingFunction\n",
    "\n",
    "def calculate_corpus_bleu(results):\n",
    "    generated_texts = []\n",
    "    reference_texts = []\n",
    "    smoothing = SmoothingFunction().method4  # Apply smoothing (method4 is commonly used)\n",
    "\n",
    "    for result in results:\n",
    "        generated = result['generated_caption']\n",
    "        expected = result['expected_caption']\n",
    "        \n",
    "        # Ensure generated text is a string (handle numpy arrays if needed)\n",
    "        if isinstance(generated, np.ndarray):\n",
    "            generated = generated.item()\n",
    "\n",
    "        # Prepare references as a list of tokenized captions\n",
    "        reference = [caption.split() for caption in expected]\n",
    "        candidate = generated.split()  # Tokenize the generated caption\n",
    "        \n",
    "        # Append to list for corpus BLEU calculation\n",
    "        reference_texts.append(reference)\n",
    "        generated_texts.append(candidate)\n",
    "\n",
    "    # Calculate BLEU score for the entire corpus\n",
    "    bleu_score = corpus_bleu(reference_texts, generated_texts, smoothing_function=smoothing)\n",
    "    \n",
    "    return bleu_score\n"
   ]
  },
  {
   "cell_type": "code",
   "execution_count": 8,
   "metadata": {},
   "outputs": [
    {
     "data": {
      "text/plain": [
       "0.18343450809603576"
      ]
     },
     "execution_count": 8,
     "metadata": {},
     "output_type": "execute_result"
    }
   ],
   "source": [
    "calculate_corpus_bleu(results)"
   ]
  },
  {
   "cell_type": "markdown",
   "metadata": {},
   "source": [
    "# Template based testing"
   ]
  },
  {
   "cell_type": "code",
   "execution_count": 9,
   "metadata": {},
   "outputs": [
    {
     "name": "stdout",
     "output_type": "stream",
     "text": [
      "Testing synonym stability ...\n",
      "['a brown dog running across a lush green field']\n",
      "Caption 1 BLEU: 0.021\n",
      "Caption 2 BLEU: 0.046\n",
      "Caption 3 BLEU: 0.028\n",
      "Caption 4 BLEU: 0.028\n",
      "Caption 5 BLEU: 0.025\n",
      "Testing meaning change ...\n",
      "['a brown dog running across a lush green field']\n",
      "Meaning change BLEU: 0.024\n"
     ]
    }
   ],
   "source": [
    "from nltk.translate.bleu_score import sentence_bleu, SmoothingFunction\n",
    "\n",
    "captions = [\n",
    "    \"A black and white dog is running in a grassy garden surrounded by a white fence.\",\n",
    "    \"A Boston Terrier is running on lush green grass in front of a white fence.\",\n",
    "    \"A black and white dog is running through the grass.\",\n",
    "    \"A dog runs on the green grass near a wooden fence.\",\n",
    "    \"A Boston terrier is running in the grass.\"\n",
    "]\n",
    "\n",
    "def compute_bleu(reference_caption, generated_caption):\n",
    "    reference_caption = str(reference_caption)\n",
    "    generated_caption = str(generated_caption)\n",
    "    reference = [reference_caption.split()]\n",
    "    candidate = generated_caption.split()\n",
    "    smoothie = SmoothingFunction().method4\n",
    "    return sentence_bleu(reference, candidate, smoothing_function=smoothie)\n",
    "\n",
    "def test_caption_synonym_stability(image_path):\n",
    "    print(\"Testing synonym stability ...\")\n",
    "    reference_caption = get_caption(image_path)\n",
    "    print(reference_caption)\n",
    "    for i, test_caption in enumerate(captions[0:], start=1):\n",
    "        bleu_score = compute_bleu(reference_caption, test_caption)\n",
    "        print(f\"Caption {i} BLEU: {bleu_score:.3f}\")\n",
    "        # assert bleu_score > 0.5, f\"Expected high BLEU for synonym caption {i}, but got {bleu_score:.3f}\"\n",
    "\n",
    "def test_caption_meaning_change(image_path):\n",
    "    print(\"Testing meaning change ...\")\n",
    "    reference_caption = get_caption(image_path)\n",
    "    print(reference_caption)\n",
    "    changed_caption = \"A cat is sleeping on a couch.\"\n",
    "    bleu_score = compute_bleu(reference_caption, changed_caption)\n",
    "    print(f\"Meaning change BLEU: {bleu_score:.3f}\")\n",
    "    # assert bleu_score < 0.3, f\"Expected low BLEU for meaning change, but got {bleu_score:.3f}\"\n",
    "\n",
    "# Run tests\n",
    "test_caption_synonym_stability(\"dog_running_park.jpg\")\n",
    "test_caption_meaning_change(\"dog_running_park.jpg\")"
   ]
  },
  {
   "cell_type": "code",
   "execution_count": null,
   "metadata": {},
   "outputs": [],
   "source": []
  }
 ],
 "metadata": {
  "kernelspec": {
   "display_name": "Python 3 (ipykernel)",
   "language": "python",
   "name": "python3"
  },
  "language_info": {
   "codemirror_mode": {
    "name": "ipython",
    "version": 3
   },
   "file_extension": ".py",
   "mimetype": "text/x-python",
   "name": "python",
   "nbconvert_exporter": "python",
   "pygments_lexer": "ipython3",
   "version": "3.12.10"
  }
 },
 "nbformat": 4,
 "nbformat_minor": 4
}
