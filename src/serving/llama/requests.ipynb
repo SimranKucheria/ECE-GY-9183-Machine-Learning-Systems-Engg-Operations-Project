{
 "cells": [
  {
   "cell_type": "code",
   "execution_count": 18,
   "id": "12509abb-5885-4da2-b907-edef4a4a88b9",
   "metadata": {},
   "outputs": [
    {
     "name": "stdout",
     "output_type": "stream",
     "text": [
      "Generated caption: ['a cat']\n"
     ]
    }
   ],
   "source": [
    "import tritonclient.http as httpclient\n",
    "import base64\n",
    "import numpy as np\n",
    "\n",
    "# Initialize client\n",
    "client = httpclient.InferenceServerClient(url=\"triton_server:8000\")\n",
    "\n",
    "def get_caption(image_path):\n",
    "    # Read and encode image as base64 string\n",
    "    with open(image_path, \"rb\") as f:\n",
    "        image_bytes = f.read()  # Get string, not bytes\n",
    "\n",
    "    inputs = []\n",
    "    inputs.append(httpclient.InferInput(\"INPUT_IMAGE\", [1, 1], \"BYTES\"))\n",
    "\n",
    "    encoded_str =  base64.b64encode(image_bytes).decode(\"utf-8\")\n",
    "    input_data = np.array([[encoded_str]], dtype=object)\n",
    "    inputs[0].set_data_from_numpy(input_data)\n",
    "\n",
    "    outputs = []\n",
    "    outputs.append(httpclient.InferRequestedOutput(\"CAPTION\", binary_data=False))\n",
    "    results = client.infer(model_name=\"caption\", inputs=inputs, outputs=outputs)\n",
    "    cap = results.as_numpy(\"CAPTION\")\n",
    "    # print(results.as_numpy())\n",
    "\n",
    "    return cap\n",
    "\n",
    "# Usage example\n",
    "caption = get_caption(\"Cat_August_2010-4.jpg\")\n",
    "print(f\"Generated caption: {caption}\")"
   ]
  },
  {
   "cell_type": "code",
   "execution_count": 7,
   "id": "196cee76-320b-4c6c-920b-34fe23e2b970",
   "metadata": {},
   "outputs": [
    {
     "name": "stdout",
     "output_type": "stream",
     "text": [
      "{'id': 'cmpl-358693de673541b598f1dff8b16019b1', 'object': 'text_completion', 'created': 1745886187, 'model': 'mistralai/Mistral-7B-Instruct-v0.2', 'choices': [{'index': 0, 'text': ' Paris\\n\\nParis is the capital city of France. It is the most populous city in France, with a population of more than 10 million', 'logprobs': None, 'finish_reason': 'length', 'stop_reason': None, 'prompt_logprobs': None}], 'usage': {'prompt_tokens': 8, 'total_tokens': 40, 'completion_tokens': 32, 'prompt_tokens_details': None}}\n"
     ]
    }
   ],
   "source": [
    "import requests\n",
    "\n",
    "url = \"http://192.5.87.164:8005/v1/completions\"\n",
    "headers = {\"Content-Type\": \"application/json\"}\n",
    "\n",
    "data = {\n",
    "    \"model\": \"mistralai/Mistral-7B-Instruct-v0.2\",\n",
    "    \"prompt\": \"What is the capital of France?\",\n",
    "    \"max_tokens\": 32,\n",
    "    \"temperature\": 0.7\n",
    "}\n",
    "\n",
    "response = requests.post(url, headers=headers, json=data)\n",
    "print(response.json())"
   ]
  },
  {
   "cell_type": "code",
   "execution_count": null,
   "id": "b0558c41-a0a8-4fba-b705-8f993d4b0054",
   "metadata": {},
   "outputs": [],
   "source": []
  }
 ],
 "metadata": {
  "kernelspec": {
   "display_name": "mlops",
   "language": "python",
   "name": "python3"
  },
  "language_info": {
   "codemirror_mode": {
    "name": "ipython",
    "version": 3
   },
   "file_extension": ".py",
   "mimetype": "text/x-python",
   "name": "python",
   "nbconvert_exporter": "python",
   "pygments_lexer": "ipython3",
   "version": "3.12.9"
  }
 },
 "nbformat": 4,
 "nbformat_minor": 5
}
