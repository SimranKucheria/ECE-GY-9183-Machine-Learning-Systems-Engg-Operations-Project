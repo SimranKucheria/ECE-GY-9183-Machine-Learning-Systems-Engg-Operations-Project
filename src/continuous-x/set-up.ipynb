{
 "cells": [
  {
   "cell_type": "code",
   "execution_count": null,
   "metadata": {},
   "outputs": [],
   "source": [
    "cd /work/deeptrust\n",
    "git submodule add -f https://github.com/kubernetes-sigs/kubespray/ src/continuous-x/ansible/k8s/kubespray\n"
   ]
  },
  {
   "cell_type": "code",
   "execution_count": null,
   "metadata": {},
   "outputs": [],
   "source": [
    "cd /work/deeptrust/src/continuous-x/\n",
    "chmod 777 *.sh\n"
   ]
  },
  {
   "attachments": {},
   "cell_type": "markdown",
   "metadata": {},
   "source": [
    "Edit clouds.yaml and get leases for baremtal compute"
   ]
  },
  {
   "cell_type": "code",
   "execution_count": null,
   "metadata": {},
   "outputs": [],
   "source": [
    "sed -i 's/'\"<REDACTED_RESERVATION_LEASE>\"'/'\"<LEASE>\"'/g' /work/deeptrust/src/continuous-x/tf/tacc/main.tf\n",
    "sed -i 's/'\"<REDACTED_RESERVATION_LEASE>\"'/'\"<LEASE>\"'/g' /work/deeptrust/src/continuous-x/tf/uc/main.tf\n"
   ]
  },
  {
   "cell_type": "code",
   "execution_count": null,
   "metadata": {
    "vscode": {
     "languageId": "plaintext"
    }
   },
   "outputs": [],
   "source": [
    "./download-libraries.sh"
   ]
  },
  {
   "cell_type": "code",
   "execution_count": null,
   "metadata": {},
   "outputs": [],
   "source": [
    "export PATH=/work/.local/bin:$PATH\n",
    "export PYTHONUSERBASE=/work/.local\n",
    "PYTHONUSERBASE=/work/.local pip install --user -r /work/deeptrust/src/continuous-x/ansible/k8s/kubespray/requirements.txt\n"
   ]
  },
  {
   "attachments": {},
   "cell_type": "markdown",
   "metadata": {},
   "source": [
    "Provision resources using terraform"
   ]
  },
  {
   "cell_type": "code",
   "execution_count": null,
   "metadata": {
    "vscode": {
     "languageId": "plaintext"
    }
   },
   "outputs": [],
   "source": [
    "./provision-terraform.sh"
   ]
  },
  {
   "attachments": {},
   "cell_type": "markdown",
   "metadata": {},
   "source": [
    "Configuring kubernetes on the host"
   ]
  },
  {
   "cell_type": "code",
   "execution_count": null,
   "metadata": {},
   "outputs": [],
   "source": [
    "export PATH=/work/.local/bin:$PATH\n",
    "export PYTHONUSERBASE=/work/.local\n",
    "cd /work/deeptrust/src/continuous-x/ansible\n",
    "ansible-playbook -i inventory.yml pre_k8s/pre_k8s_configure.yml\n"
   ]
  },
  {
   "cell_type": "code",
   "execution_count": null,
   "metadata": {},
   "outputs": [],
   "source": [
    "export ANSIBLE_CONFIG=/work/deeptrust/src/continuous-x/ansible/ansible.cfg\n",
    "export ANSIBLE_ROLES_PATH=roles\n",
    "cd /work/deeptrust/src/continuous-x/k8s/kubespray\n",
    "ansible-playbook -i ../inventory/mycluster --become --become-user=root ./cluster.yml\n"
   ]
  },
  {
   "cell_type": "code",
   "execution_count": null,
   "metadata": {},
   "outputs": [],
   "source": [
    "cd /work/deeptrust/src/continuous-x/ansible\n",
    "ansible-playbook -i inventory.yml post_k8s/post_k8s_configure.yml"
   ]
  },
  {
   "attachments": {},
   "cell_type": "markdown",
   "metadata": {},
   "source": [
    "ArgoCD"
   ]
  },
  {
   "cell_type": "code",
   "execution_count": null,
   "metadata": {},
   "outputs": [],
   "source": [
    "cd /work/deeptrust/src/continuous-x/ansible\n",
    "ansible-playbook -i inventory.yml argocd/argocd_add_platform.yml"
   ]
  }
 ],
 "metadata": {
  "language_info": {
   "name": "python"
  },
  "orig_nbformat": 4
 },
 "nbformat": 4,
 "nbformat_minor": 2
}
