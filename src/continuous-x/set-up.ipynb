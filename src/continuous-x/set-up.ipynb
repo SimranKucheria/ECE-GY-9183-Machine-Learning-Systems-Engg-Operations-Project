{
 "cells": [
  {
   "attachments": {},
   "cell_type": "markdown",
   "metadata": {},
   "source": [
    "## Run the following cells after cloning onto a Jupyter Chameleon (Clone repo into /tmp/deeptrust)"
   ]
  },
  {
   "cell_type": "code",
   "execution_count": null,
   "metadata": {},
   "outputs": [],
   "source": [
    "cd /work/deeptrust/src/continuous-x/\n",
    "chmod 777 *.sh\n"
   ]
  },
  {
   "attachments": {},
   "cell_type": "markdown",
   "metadata": {},
   "source": [
    "## ADD LEASES"
   ]
  },
  {
   "cell_type": "code",
   "execution_count": null,
   "metadata": {},
   "outputs": [],
   "source": [
    "sed -i 's/'\"<REDACTED_RESERVATION_LEASE1>\"'/'\"<LEASE>\"'/g' /work/deeptrust/src/continuous-x/tf/tacc/main.tf\n",
    "sed -i 's/'\"<REDACTED_RESERVATION_LEASE2>\"'/'\"<LEASE>\"'/g' /work/deeptrust/src/continuous-x/tf/tacc/main.tf\n"
   ]
  },
  {
   "cell_type": "code",
   "execution_count": null,
   "metadata": {
    "vscode": {
     "languageId": "plaintext"
    }
   },
   "outputs": [],
   "source": [
    "./download-libraries.sh"
   ]
  },
  {
   "cell_type": "code",
   "execution_count": null,
   "metadata": {},
   "outputs": [],
   "source": [
    "export PATH=/work/.local/bin:$PATH\n",
    "export PYTHONUSERBASE=/work/.local\n",
    "PYTHONUSERBASE=/work/.local pip install --user -r /work/deeptrust/src/continuous-x/ansible/k8s/kubespray/requirements.txt\n"
   ]
  },
  {
   "attachments": {},
   "cell_type": "markdown",
   "metadata": {},
   "source": [
    "## Provision resources using terraform - Provisions KVM/Baremetals/Network/Block Storage/Object Storage"
   ]
  },
  {
   "cell_type": "code",
   "execution_count": null,
   "metadata": {
    "vscode": {
     "languageId": "plaintext"
    }
   },
   "outputs": [],
   "source": [
    "./provision-terraform.sh"
   ]
  },
  {
   "attachments": {},
   "cell_type": "markdown",
   "metadata": {},
   "source": [
    "## Configuring kubernetes on the host"
   ]
  },
  {
   "cell_type": "code",
   "execution_count": null,
   "metadata": {},
   "outputs": [],
   "source": [
    "export PATH=/work/.local/bin:$PATH\n",
    "export PYTHONUSERBASE=/work/.local\n",
    "export ANSIBLE_CONFIG=/work/deeptrust/src/continuous-x/ansible/ansible.cfg\n",
    "export ANSIBLE_ROLES_PATH=roles\n",
    "cd /work/deeptrust/src/continuous-x/ansible\n",
    "ansible-playbook -i inventory.yml pre_k8s/pre_k8s_configure.yml\n"
   ]
  },
  {
   "attachments": {},
   "cell_type": "markdown",
   "metadata": {},
   "source": [
    "## Load Data into Object Storage"
   ]
  },
  {
   "cell_type": "code",
   "execution_count": null,
   "metadata": {},
   "outputs": [],
   "source": [
    "export ANSIBLE_CONFIG=/work/deeptrust/src/continuous-x/ansible/ansible.cfg\n",
    "export ANSIBLE_ROLES_PATH=roles\n",
    "ansible-playbook -i inventory.yml ../ansible-baremetal/setup/bootstrap.yml\n"
   ]
  },
  {
   "cell_type": "code",
   "execution_count": null,
   "metadata": {},
   "outputs": [],
   "source": [
    "export ANSIBLE_CONFIG=/work/deeptrust/src/continuous-x/ansible/ansible.cfg\n",
    "export ANSIBLE_ROLES_PATH=roles\n",
    "ansible-playbook -i inventory.yml pre_k8s/set_up_object_storage.yml"
   ]
  },
  {
   "cell_type": "code",
   "execution_count": null,
   "metadata": {},
   "outputs": [],
   "source": [
    "export ANSIBLE_CONFIG=/work/deeptrust/src/continuous-x/ansible/ansible.cfg\n",
    "export ANSIBLE_ROLES_PATH=roles\n",
    "cd /work/deeptrust/src/continuous-x/ansible/k8s/kubespray\n",
    "ansible-playbook -i ../inventory/mycluster --become --become-user=root ./cluster.yml\n"
   ]
  },
  {
   "cell_type": "code",
   "execution_count": null,
   "metadata": {},
   "outputs": [],
   "source": [
    "export ANSIBLE_CONFIG=/work/deeptrust/src/continuous-x/ansible/ansible.cfg\n",
    "export ANSIBLE_ROLES_PATH=roles\n",
    "cd /work/deeptrust/src/continuous-x/ansible\n",
    "ansible-playbook -i inventory.yml post_k8s/post_k8s_configure.yml"
   ]
  },
  {
   "attachments": {},
   "cell_type": "markdown",
   "metadata": {},
   "source": [
    "## Configure Block Storage - Partitioning"
   ]
  },
  {
   "cell_type": "code",
   "execution_count": null,
   "metadata": {},
   "outputs": [],
   "source": [
    "#Set up Block Storage\n",
    "export ANSIBLE_CONFIG=/work/deeptrust/src/continuous-x/ansible/ansible.cfg\n",
    "export ANSIBLE_ROLES_PATH=roles\n",
    "cd /work/deeptrust/src/continuous-x/ansible\n",
    "ansible-playbook -i inventory.yml post_k8s/set_up_block_storage.yml"
   ]
  },
  {
   "attachments": {},
   "cell_type": "markdown",
   "metadata": {},
   "source": [
    "## Create Images for Prometheus and Grafana that have all the relevant configurations baked into the image"
   ]
  },
  {
   "cell_type": "code",
   "execution_count": null,
   "metadata": {},
   "outputs": [],
   "source": [
    "export ANSIBLE_CONFIG=/work/deeptrust/src/continuous-x/ansible/ansible.cfg\n",
    "export ANSIBLE_ROLES_PATH=roles\n",
    "cd /work/deeptrust/src/continuous-x/ansible\n",
    "ansible-playbook -i inventory.yml ../argocd/initial_container_create.yml"
   ]
  },
  {
   "attachments": {},
   "cell_type": "markdown",
   "metadata": {},
   "source": [
    "## Creates Platform with Minio, MLFlow, LabelStudio, Grafana, Prometheus, Postgres"
   ]
  },
  {
   "cell_type": "code",
   "execution_count": null,
   "metadata": {},
   "outputs": [],
   "source": [
    "cd /work/deeptrust/src/continuous-x/ansible\n",
    "ansible-playbook -i inventory.yml ../argocd/argocd_add_platform.yml"
   ]
  },
  {
   "attachments": {},
   "cell_type": "markdown",
   "metadata": {},
   "source": [
    "Enable port forwarding for services <br>\n",
    "ssh -L 8443:127.0.0.1:8443 -i ~/.ssh/id_rsa_chameleon cc@A.B.C.D <br>\n",
    "kubectl port-forward -n kube-system svc/kubernetes-dashboard 8443:443 <br>\n",
    "https://127.0.0.1:8443/ <br>\n",
    "\n",
    "ssh -L 8888:127.0.0.1:8888 -i ~/.ssh/id_rsa_chameleon cc@A.B.C.D <br>\n",
    "kubectl port-forward svc/argocd-server -n argocd 8888:443 <br>\n",
    "https://127.0.0.1:8888/ <br>\n",
    "\n",
    "ssh -L 2746:127.0.0.1:2746 -i ~/.ssh/id_rsa_chameleon cc@A.B.C.D <br>\n",
    "kubectl -n argo port-forward svc/argo-server 2746:2746 <br>\n",
    "https://127.0.0.1:2746/ <br>"
   ]
  },
  {
   "attachments": {},
   "cell_type": "markdown",
   "metadata": {},
   "source": [
    "## BareMetal Setup - Clones repo to run required docker files, Mounts Object Storage, Starts containers on baremetals"
   ]
  },
  {
   "cell_type": "code",
   "execution_count": null,
   "metadata": {},
   "outputs": [],
   "source": [
    "#Set up baremetals\n",
    "export ANSIBLE_CONFIG=/work/deeptrust/src/continuous-x/ansible-baremetal/ansible.cfg\n",
    "export ANSIBLE_ROLES_PATH=roles\n",
    "cd /work/deeptrust/src/continuous-x/ansible-baremetal\n",
    "ansible-playbook -i inventory.yml setup/bootstrap.yml"
   ]
  },
  {
   "cell_type": "code",
   "execution_count": null,
   "metadata": {},
   "outputs": [],
   "source": [
    "#Mount Object Storage (Can only be run after initial github repo is fetched in bootstrap.yml)\n",
    "export ANSIBLE_CONFIG=/work/deeptrust/src/continuous-x/ansible-baremetal/ansible.cfg\n",
    "export ANSIBLE_ROLES_PATH=roles\n",
    "cd /work/deeptrust/src/continuous-x/ansible-baremetal\n",
    "ansible-playbook -i inventory.yml setup/mount_object_storage.yml"
   ]
  },
  {
   "cell_type": "code",
   "execution_count": null,
   "metadata": {},
   "outputs": [],
   "source": [
    "export ANSIBLE_CONFIG=/work/deeptrust/src/continuous-x/ansible-baremetal/ansible.cfg\n",
    "export ANSIBLE_ROLES_PATH=roles\n",
    "cd /work/deeptrust/src/continuous-x/ansible-baremetal\n",
    "ansible-playbook -i inventory.yml setup/containers_bootstrap.yml"
   ]
  },
  {
   "attachments": {},
   "cell_type": "markdown",
   "metadata": {},
   "source": [
    "## Add Staging, Canary, Production Environments"
   ]
  },
  {
   "cell_type": "code",
   "execution_count": null,
   "metadata": {},
   "outputs": [],
   "source": [
    "export ANSIBLE_CONFIG=/work/deeptrust/src/continuous-x/ansible/ansible.cfg\n",
    "export ANSIBLE_ROLES_PATH=roles\n",
    "cd /work/deeptrust/src/continuous-x/ansible\n",
    "ansible-playbook -i inventory.yml ../argocd/workflow_build_init.yml"
   ]
  },
  {
   "cell_type": "code",
   "execution_count": null,
   "metadata": {},
   "outputs": [],
   "source": [
    "\n",
    "cd /work/deeptrust/src/continuous-x/ansible\n",
    "ansible-playbook -i inventory.yml ../argocd/argocd_add_staging.yml"
   ]
  },
  {
   "cell_type": "code",
   "execution_count": null,
   "metadata": {},
   "outputs": [],
   "source": [
    "\n",
    "cd /work/deeptrust/src/continuous-x/ansible\n",
    "ansible-playbook -i inventory.yml ../argocd/argocd_add_canary.yml"
   ]
  },
  {
   "cell_type": "code",
   "execution_count": null,
   "metadata": {},
   "outputs": [],
   "source": [
    "\n",
    "cd /work/deeptrust/src/continuous-x/ansible\n",
    "ansible-playbook -i inventory.yml ../argocd/argocd_add_production.yml"
   ]
  },
  {
   "attachments": {},
   "cell_type": "markdown",
   "metadata": {},
   "source": [
    "## Upload workflow templates on ArgoCD"
   ]
  },
  {
   "cell_type": "code",
   "execution_count": null,
   "metadata": {},
   "outputs": [],
   "source": [
    "cd /work/deeptrust/src/continuous-x/ansible\n",
    "ansible-playbook -i inventory.yml ../argocd/workflow-templates-apply.yml"
   ]
  },
  {
   "attachments": {},
   "cell_type": "markdown",
   "metadata": {},
   "source": [
    "## Online Data Testing"
   ]
  },
  {
   "cell_type": "code",
   "execution_count": null,
   "metadata": {},
   "outputs": [],
   "source": [
    "export ANSIBLE_CONFIG=/work/deeptrust/src/continuous-x/ansible/ansible.cfg\n",
    "export ANSIBLE_ROLES_PATH=roles\n",
    "cd /work/deeptrust/src/continuous-x/ansible-baremetal\n",
    "ansible-playbook -i inventory.yml ../ansible-baremetal/testing/online-data-testing.yml"
   ]
  }
 ],
 "metadata": {
  "language_info": {
   "name": "python"
  },
  "orig_nbformat": 4
 },
 "nbformat": 4,
 "nbformat_minor": 2
}
