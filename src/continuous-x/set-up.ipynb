{
 "cells": [
  {
   "cell_type": "code",
   "execution_count": null,
   "metadata": {},
   "outputs": [],
   "source": [
    "cd /work/deeptrust/src/continuous-x/\n",
    "chmod 777 *.sh\n"
   ]
  },
  {
   "attachments": {},
   "cell_type": "markdown",
   "metadata": {},
   "source": [
    "Edit clouds.yaml and get leases for baremtal compute"
   ]
  },
  {
   "cell_type": "code",
   "execution_count": null,
   "metadata": {},
   "outputs": [],
   "source": [
    "sed -i 's/'\"<REDACTED_RESERVATION_LEASE>\"'/'\"<LEASE>\"'/g' /work/deeptrust/src/continuous-x/tf/tacc/main.tf\n",
    "sed -i 's/'\"<REDACTED_RESERVATION_LEASE>\"'/'\"<LEASE>\"'/g' /work/deeptrust/src/continuous-x/tf/uc/main.tf\n"
   ]
  },
  {
   "cell_type": "code",
   "execution_count": null,
   "metadata": {
    "vscode": {
     "languageId": "plaintext"
    }
   },
   "outputs": [],
   "source": [
    "./download-libraries.sh"
   ]
  },
  {
   "cell_type": "code",
   "execution_count": null,
   "metadata": {},
   "outputs": [],
   "source": [
    "export PATH=/work/.local/bin:$PATH\n",
    "export PYTHONUSERBASE=/work/.local\n",
    "PYTHONUSERBASE=/work/.local pip install --user -r /work/deeptrust/src/continuous-x/ansible/k8s/kubespray/requirements.txt\n"
   ]
  },
  {
   "attachments": {},
   "cell_type": "markdown",
   "metadata": {},
   "source": [
    "Provision resources using terraform"
   ]
  },
  {
   "cell_type": "code",
   "execution_count": null,
   "metadata": {
    "vscode": {
     "languageId": "plaintext"
    }
   },
   "outputs": [],
   "source": [
    "./provision-terraform.sh"
   ]
  },
  {
   "attachments": {},
   "cell_type": "markdown",
   "metadata": {},
   "source": [
    "Configuring kubernetes on the host"
   ]
  },
  {
   "cell_type": "code",
   "execution_count": null,
   "metadata": {},
   "outputs": [],
   "source": [
    "export PATH=/work/.local/bin:$PATH\n",
    "export PYTHONUSERBASE=/work/.local\n",
    "cd /work/deeptrust/src/continuous-x/ansible\n",
    "ansible-playbook -i inventory.yml pre_k8s/pre_k8s_configure.yml\n"
   ]
  },
  {
   "cell_type": "code",
   "execution_count": null,
   "metadata": {},
   "outputs": [],
   "source": [
    "export ANSIBLE_CONFIG=/work/deeptrust/src/continuous-x/ansible/ansible.cfg\n",
    "export ANSIBLE_ROLES_PATH=roles\n",
    "cd k8s/kubespray\n",
    "ansible-playbook -i ../inventory/mycluster --become --become-user=root ./cluster.yml\n"
   ]
  },
  {
   "cell_type": "code",
   "execution_count": null,
   "metadata": {},
   "outputs": [],
   "source": [
    "#Change Github Access Token before running\n",
    "cd ../../ansible\n",
    "ansible-playbook -i inventory.yml post_k8s/post_k8s_configure.yml"
   ]
  },
  {
   "attachments": {},
   "cell_type": "markdown",
   "metadata": {},
   "source": [
    "ArgoCD\n",
    "Attach Block Storage to instance and format it after ssh-ing on the node\n",
    "\n",
    "sudo parted -s /dev/vdb mklabel gpt\n",
    "sudo parted -s /dev/vdb mkpart primary ext4 0% 100%\n",
    "sudo mkfs.ext4 /dev/vdb1\n",
    "\n",
    "sudo mkdir -p /mnt/block\n",
    "sudo mount /dev/vdb1 /mnt/block\n",
    "\n",
    "sudo chown -R cc /mnt/block\n",
    "sudo chgrp -R cc /mnt/block"
   ]
  },
  {
   "attachments": {},
   "cell_type": "markdown",
   "metadata": {},
   "source": [
    "Baremetal Setup\n",
    "\n",
    "1) SSH into hosts\n",
    "2) Install Docker\n",
    "3) Install RClone \n",
    "    curl https://rclone.org/install.sh | sudo bash\n",
    "    sudo sed -i '/^#user_allow_other/s/^#//' /etc/fuse.conf\n",
    "    mkdir -p ~/.config/rclone\n",
    "    nano  ~/.config/rclone/rclone.conf\n",
    "3) Create rclone.conf\n",
    "3) Attach object storage\n",
    "sudo mkdir -p /mnt/object\n",
    "sudo chown -R cc /mnt/object\n",
    "sudo chgrp -R cc /mnt/object\n",
    "rclone mount chi_tacc:object-persist-netID /mnt/object --read-only --allow-other --daemon"
   ]
  },
  {
   "cell_type": "code",
   "execution_count": null,
   "metadata": {},
   "outputs": [],
   "source": [
    "export ANSIBLE_CONFIG=/work/deeptrust/src/continuous-x/ansible/ansible.cfg\n",
    "export ANSIBLE_ROLES_PATH=roles\n",
    "cd ../\n",
    "ansible-playbook -i ansible/inventory.yml argocd/initial_container_create.yml"
   ]
  },
  {
   "attachments": {},
   "cell_type": "markdown",
   "metadata": {},
   "source": [
    "Change Repo Token in argocd_add_platform.yml"
   ]
  },
  {
   "cell_type": "code",
   "execution_count": null,
   "metadata": {},
   "outputs": [],
   "source": [
    "cd ../\n",
    "ansible-playbook -i ansible/inventory.yml argocd/argocd_add_platform.yml"
   ]
  },
  {
   "attachments": {},
   "cell_type": "markdown",
   "metadata": {},
   "source": [
    "Enable port forwarding for services\n",
    "ssh -L 8443:127.0.0.1:8443 -i ~/.ssh/id_rsa_chameleon cc@A.B.C.D\n",
    "kubectl port-forward -n kube-system svc/kubernetes-dashboard 8443:443\n",
    "https://127.0.0.1:8443/\n",
    "\n",
    "ssh -L 8888:127.0.0.1:8888 -i ~/.ssh/id_rsa_chameleon cc@A.B.C.D\n",
    "kubectl port-forward svc/argocd-server -n argocd 8888:443\n",
    "https://127.0.0.1:8888/\n",
    "\n",
    "ssh -L 2746:127.0.0.1:2746 -i ~/.ssh/id_rsa_chameleon cc@A.B.C.D\n",
    "kubectl -n argo port-forward svc/argo-server 2746:2746\n",
    "https://127.0.0.1:2746/"
   ]
  },
  {
   "cell_type": "code",
   "execution_count": null,
   "metadata": {},
   "outputs": [],
   "source": [
    "export ANSIBLE_CONFIG=/work/deeptrust/src/continuous-x/ansible-baremetal/ansible.cfg\n",
    "export ANSIBLE_ROLES_PATH=roles\n",
    "ansible-playbook -i ansible/inventory.yml setup/bootstrap.yml"
   ]
  }
 ],
 "metadata": {
  "language_info": {
   "name": "python"
  },
  "orig_nbformat": 4
 },
 "nbformat": 4,
 "nbformat_minor": 2
}
